{
 "cells": [
  {
   "cell_type": "code",
   "execution_count": 3,
   "metadata": {},
   "outputs": [],
   "source": [
    "import numpy as np\n",
    "import matplotlib.pyplot as plt\n"
   ]
  },
  {
   "cell_type": "code",
   "execution_count": 2,
   "metadata": {},
   "outputs": [],
   "source": [
    "Beam_ID = 'M01'\n"
   ]
  },
  {
   "cell_type": "code",
   "execution_count": 4,
   "metadata": {},
   "outputs": [],
   "source": [
    "file_path = 'high 202410/'\n",
    "\n",
    "freq_file = 'freq.dat'\n",
    "data = []\n",
    "with open(file_path+freq_file, 'r') as file:\n",
    "    for line in file:\n",
    "        data.extend(float(num) for num in line.split())\n",
    "freqcal_24 = np.array(data)\n",
    "\n",
    "\n",
    "file_cal_a = 'T_noise_W_high_'+Beam_ID[1:3]+'a.dat'\n",
    "data = []\n",
    "with open(file_path+file_cal_a, 'r') as file:\n",
    "    for line in file:\n",
    "        data.extend(float(num) for num in line.split())\n",
    "Tcal_a = np.array(data)\n",
    "\n",
    "file_cal_b = 'T_noise_W_high_'+Beam_ID[1:3]+'b.dat'\n",
    "data = []\n",
    "with open(file_path+file_cal_b, 'r') as file:\n",
    "    for line in file:\n",
    "        data.extend(float(num) for num in line.split())\n",
    "Tcal_b = np.array(data)\n",
    "\n",
    "Tcal_24 = (Tcal_a + Tcal_b)/2."
   ]
  },
  {
   "cell_type": "code",
   "execution_count": 10,
   "metadata": {},
   "outputs": [
    {
     "data": {
      "text/plain": [
       "(10.0, 15.0)"
      ]
     },
     "execution_count": 10,
     "metadata": {},
     "output_type": "execute_result"
    },
    {
     "data": {
      "image/png": "[encoded data removed]",
      "text/plain": [
       "<Figure size 432x288 with 1 Axes>"
      ]
     },
     "metadata": {
      "needs_background": "light"
     },
     "output_type": "display_data"
    }
   ],
   "source": [
    "plt.plot(freqcal_24, Tcal_24, '.')\n",
    "\n",
    "plt.xlim(1250,1400)\n",
    "plt.ylim(10, 15)"
   ]
  }
 ],
 "metadata": {
  "kernelspec": {
   "display_name": "Python 3",
   "language": "python",
   "name": "python3"
  },
  "language_info": {
   "codemirror_mode": {
    "name": "ipython",
    "version": 3
   },
   "file_extension": ".py",
   "mimetype": "text/x-python",
   "name": "python",
   "nbconvert_exporter": "python",
   "pygments_lexer": "ipython3",
   "version": "3.9.1"
  }
 },
 "nbformat": 4,
 "nbformat_minor": 2
}
