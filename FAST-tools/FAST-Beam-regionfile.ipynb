{
 "cells": [
  {
   "cell_type": "code",
   "execution_count": null,
   "metadata": {},
   "outputs": [],
   "source": [
    "import numpy as np\n",
    "\n",
    "ra_M01 = 159.36500\n",
    "dec_M01 = 2.0894167\n",
    "\n",
    "f = open(\"FAST-beams-M01.reg\", \"w\")\n",
    "\n",
    "f.write('# Region file format: DS9 version 4.1\\n')\n",
    "f.write('global color=red dashlist=8 3 width=4 font=\"helvetica 10 normal roman\" select=1 highlite=1 dash=0 fixed=0 edit=1 move=1 delete=1 include=1 source=1\\n')\n",
    "f.write('fk5\\n')\n",
    "f.write('circle('+str(ra_M01+0/60.)+','+str(dec_M01+0/60.)+',87\")\\n')\t\t\t\t\t\t\t\t\t\t\t\t\t\t#01\n",
    "f.write('circle('+str(ra_M01 + 5.74 / 60. / np.cos(dec_M01 * np.pi / 180.))+','+str(dec_M01+0.00811/60.)+',87\")\\n')\t\t\t#02\n",
    "f.write('circle('+str(ra_M01 + 2.88 / 60. / np.cos((dec_M01-4.97/60.) * np.pi / 180.))+','+str(dec_M01-4.97/60.)+',87\")\\n')\t#03\n",
    "f.write('circle('+str(ra_M01 - 2.86 / 60. / np.cos((dec_M01-4.98/60.) * np.pi / 180.))+','+str(dec_M01-4.98/60.)+',87\")\\n')\t#04\n",
    "f.write('circle('+str(ra_M01 - 5.74 / 60. / np.cos((dec_M01-0.0127/60.) * np.pi / 180.))+','+str(dec_M01-0.0127/60.)+',87\")\\n')#05\n",
    "f.write('circle('+str(ra_M01 - 2.88 / 60. / np.cos((dec_M01+4.97/60.) * np.pi / 180.))+','+str(dec_M01+4.97/60.)+',87\")\\n')\t#06\n",
    "f.write('circle('+str(ra_M01 + 2.86 / 60. / np.cos((dec_M01+4.98/60.) * np.pi / 180.))+','+str(dec_M01+4.98/60.)+',87\")\\n')\t#07\n",
    "f.write('circle('+str(ra_M01 + 11.5/60. / np.cos((dec_M01+0.0116/60.) * np.pi / 180.))+','+str(dec_M01+0.0116/60.)+',87\")\\n')\t#08\n",
    "f.write('circle('+str(ra_M01 + 8.61/60. / np.cos((dec_M01-4.96/60.) * np.pi / 180.))+','+str(dec_M01-4.96/60.)+',87\")\\n')\t\t#09\n",
    "f.write('circle('+str(ra_M01 + 5.75 / 60. / np.cos((dec_M01-9.93/60.) * np.pi / 180.))+','+str(dec_M01-9.93/60.)+',87\")\\n')\t#10\n",
    "f.write('circle('+str(ra_M01 +0.018 / 60. / np.cos((dec_M01-9.94/60.) * np.pi / 180.))+','+str(dec_M01-9.94/60.)+',87\")\\n')\t#11\n",
    "f.write('circle('+str(ra_M01 - 5.71 / 60. / np.cos((dec_M01-9.96/60.) * np.pi / 180.))+','+str(dec_M01-9.96/60.)+',87\")\\n')\t#12\n",
    "f.write('circle('+str(ra_M01 - 8.6 /60. / np.cos((dec_M01-4.99/60.) * np.pi / 180.))+','+str(dec_M01-4.99/60.)+',87\")\\n')\t\t#13\n",
    "f.write('circle('+str(ra_M01 - 11.5/60. / np.cos((dec_M01-0.03/60.) * np.pi / 180.))+','+str(dec_M01-0.03/60.)+',87\")\\n')\t\t#14\n",
    "f.write('circle('+str(ra_M01 - 8.63/60. / np.cos((dec_M01+4.95/60.) * np.pi / 180.))+','+str(dec_M01+4.95/60.)+',87\")\\n')\t\t#15\n",
    "f.write('circle('+str(ra_M01 -5.77 /60. / np.cos((dec_M01+9.93/60.) * np.pi / 180.))+','+str(dec_M01+9.93/60.)+',87\")\\n')\t\t#16\n",
    "f.write('circle('+str(ra_M01-0.0181/60. / np.cos((dec_M01+9.94/60.) * np.pi / 180.))+','+str(dec_M01+9.94/60.)+',87\")\\n')\t\t#17\n",
    "f.write('circle('+str(ra_M01 +5.77 /60. / np.cos((dec_M01+9.93/60.) * np.pi / 180.))+','+str(dec_M01+9.93/60.)+',87\")\\n')\t\t#18\n",
    "f.write('circle('+str(ra_M01+8.61/60. / np.cos((dec_M01+4.98/60.) * np.pi / 180.))+','+str(dec_M01+4.98/60.)+',87\")\\n')\t\t#19\n",
    "\n",
    "\n",
    "f.write('# text('+str(ra_M01+0/60.)+','+str(dec_M01+0/60.)+') textangle=2.97 color=red font=\"helvetica 16 normal roman\" text={01}\\n')\t\t\t\t\t\t\t\t\t\t\t\t\t\t#01\n",
    "f.write('# text('+str(ra_M01 + 5.74 / 60. / np.cos(dec_M01 * np.pi / 180.))+','+str(dec_M01+0.00811/60.)+') textangle=2.97 color=red font=\"helvetica 16 normal roman\" text={02}\\n')\t\t\t#02\n",
    "f.write('# text('+str(ra_M01 + 2.88 / 60. / np.cos((dec_M01-4.97/60.) * np.pi / 180.))+','+str(dec_M01-4.97/60.)+') textangle=2.97 color=red font=\"helvetica 16 normal roman\" text={03}\\n')\t#03\n",
    "f.write('# text('+str(ra_M01 - 2.86 / 60. / np.cos((dec_M01-4.98/60.) * np.pi / 180.))+','+str(dec_M01-4.98/60.)+') textangle=2.97 color=red font=\"helvetica 16 normal roman\" text={04}\\n')\t#04\n",
    "f.write('# text('+str(ra_M01 - 5.74 / 60. / np.cos((dec_M01-0.0127/60.) * np.pi / 180.))+','+str(dec_M01-0.0127/60.)+') textangle=2.97 color=red font=\"helvetica 16 normal roman\" text={05}\\n')#05\n",
    "f.write('# text('+str(ra_M01 - 2.88 / 60. / np.cos((dec_M01+4.97/60.) * np.pi / 180.))+','+str(dec_M01+4.97/60.)+') textangle=2.97 color=red font=\"helvetica 16 normal roman\" text={06}\\n')\t#06\n",
    "f.write('# text('+str(ra_M01 + 2.86 / 60. / np.cos((dec_M01+4.98/60.) * np.pi / 180.))+','+str(dec_M01+4.98/60.)+') textangle=2.97 color=red font=\"helvetica 16 normal roman\" text={07}\\n')\t#07\n",
    "f.write('# text('+str(ra_M01 + 11.5/60. / np.cos((dec_M01+0.0116/60.) * np.pi / 180.))+','+str(dec_M01+0.0116/60.)+') textangle=2.97 color=red font=\"helvetica 16 normal roman\" text={08}\\n')\t#08\n",
    "f.write('# text('+str(ra_M01 + 8.61/60. / np.cos((dec_M01-4.96/60.) * np.pi / 180.))+','+str(dec_M01-4.96/60.)+') textangle=2.97 color=red font=\"helvetica 16 normal roman\" text={09}\\n')\t\t#09\n",
    "f.write('# text('+str(ra_M01 + 5.75 / 60. / np.cos((dec_M01-9.93/60.) * np.pi / 180.))+','+str(dec_M01-9.93/60.)+') textangle=2.97 color=red font=\"helvetica 16 normal roman\" text={10}\\n')\t#10\n",
    "f.write('# text('+str(ra_M01 +0.018 / 60. / np.cos((dec_M01-9.94/60.) * np.pi / 180.))+','+str(dec_M01-9.94/60.)+') textangle=2.97 color=red font=\"helvetica 16 normal roman\" text={11}\\n')\t#11\n",
    "f.write('# text('+str(ra_M01 - 5.71 / 60. / np.cos((dec_M01-9.96/60.) * np.pi / 180.))+','+str(dec_M01-9.96/60.)+') textangle=2.97 color=red font=\"helvetica 16 normal roman\" text={12}\\n')\t#12\n",
    "f.write('# text('+str(ra_M01 - 8.6 /60. / np.cos((dec_M01-4.99/60.) * np.pi / 180.))+','+str(dec_M01-4.99/60.)+') textangle=2.97 color=red font=\"helvetica 16 normal roman\" text={13}\\n')\t\t#13\n",
    "f.write('# text('+str(ra_M01 - 11.5/60. / np.cos((dec_M01-0.03/60.) * np.pi / 180.))+','+str(dec_M01-0.03/60.)+') textangle=2.97 color=red font=\"helvetica 16 normal roman\" text={14}\\n')\t\t#14\n",
    "f.write('# text('+str(ra_M01 - 8.63/60. / np.cos((dec_M01+4.95/60.) * np.pi / 180.))+','+str(dec_M01+4.95/60.)+') textangle=2.97 color=red font=\"helvetica 16 normal roman\" text={15}\\n')\t\t#15\n",
    "f.write('# text('+str(ra_M01 -5.77 /60. / np.cos((dec_M01+9.93/60.) * np.pi / 180.))+','+str(dec_M01+9.93/60.)+') textangle=2.97 color=red font=\"helvetica 16 normal roman\" text={16}\\n')\t\t#16\n",
    "f.write('# text('+str(ra_M01-0.0181/60. / np.cos((dec_M01+9.94/60.) * np.pi / 180.))+','+str(dec_M01+9.94/60.)+') textangle=2.97 color=red font=\"helvetica 16 normal roman\" text={17}\\n')\t\t#17\n",
    "f.write('# text('+str(ra_M01 +5.77 /60. / np.cos((dec_M01+9.93/60.) * np.pi / 180.))+','+str(dec_M01+9.93/60.)+') textangle=2.97 color=red font=\"helvetica 16 normal roman\" text={18}\\n')\t\t#18\n",
    "f.write('# text('+str(ra_M01+8.61/60. / np.cos((dec_M01+4.98/60.) * np.pi / 180.))+','+str(dec_M01+4.98/60.)+') textangle=2.97 color=red font=\"helvetica 16 normal roman\" text={19}\\n')\t\t#19\n",
    "\n",
    "f.close()"
   ]
  },
  {
   "cell_type": "code",
   "execution_count": null,
   "metadata": {},
   "outputs": [],
   "source": []
  }
 ],
 "metadata": {
  "kernelspec": {
   "display_name": "Python 3",
   "language": "python",
   "name": "python3"
  },
  "language_info": {
   "codemirror_mode": {
    "name": "ipython",
    "version": 3
   },
   "file_extension": ".py",
   "mimetype": "text/x-python",
   "name": "python",
   "nbconvert_exporter": "python",
   "pygments_lexer": "ipython3",
   "version": "3.6.5"
  }
 },
 "nbformat": 4,
 "nbformat_minor": 2
}
